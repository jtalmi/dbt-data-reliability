{
 "cells": [
  {
   "cell_type": "code",
   "execution_count": null,
   "metadata": {
    "collapsed": true
   },
   "outputs": [],
   "source": [
    "import subprocess\n",
    "\n",
    "res = subprocess.run([\"dbt\", \"run\", \"-m\", \"table_metrics\"], capture_output=True)\n",
    "print(res.stdout.decode('utf-8'))"
   ]
  },
  {
   "cell_type": "code",
   "execution_count": null,
   "outputs": [],
   "source": [
    "import subprocess\n",
    "import json\n",
    "\n",
    "\n",
    "res = subprocess.run([\"dbt\", \"--debug\", \"--log-format\", \"json\", \"run\", \"-m\", \"table_metrics\"], capture_output=True)\n",
    "json_messages = res.stdout.decode('utf-8').splitlines()\n",
    "json_messages = [json.loads(line) for line in json_messages]\n",
    "log_messages = [msg for msg in json_messages if msg['code'] in {'M011', 'M012'}]\n",
    "log_msgs_count = len(log_messages)\n",
    "debugged_msgs = []\n",
    "for i in range(log_msgs_count):\n",
    "    if log_messages[i]['data']['msg'] == 'EDR_LOG_PRE' and i + 2 < log_msgs_count and log_messages[i + 2]['data']['msg'] == 'EDR_LOG_AFTER':\n",
    "        debugged_msgs.append(log_messages[i + 1]['data']['msg'])"
   ],
   "metadata": {
    "collapsed": false,
    "pycharm": {
     "name": "#%%\n"
    }
   }
  }
 ],
 "metadata": {
  "kernelspec": {
   "display_name": "Python 3",
   "language": "python",
   "name": "python3"
  },
  "language_info": {
   "codemirror_mode": {
    "name": "ipython",
    "version": 2
   },
   "file_extension": ".py",
   "mimetype": "text/x-python",
   "name": "python",
   "nbconvert_exporter": "python",
   "pygments_lexer": "ipython2",
   "version": "2.7.6"
  }
 },
 "nbformat": 4,
 "nbformat_minor": 0
}